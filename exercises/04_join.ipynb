{
 "cells": [
  {
   "cell_type": "markdown",
   "id": "e47e0360",
   "metadata": {},
   "source": [
    "# JOIN"
   ]
  },
  {
   "cell_type": "code",
   "execution_count": 12,
   "id": "8c32c21a",
   "metadata": {},
   "outputs": [],
   "source": [
    "import sys\n",
    "import sqlite3\n",
    "sys.path.append('tests')\n",
    "from test_join import *"
   ]
  },
  {
   "cell_type": "code",
   "execution_count": 4,
   "id": "c439ef0f",
   "metadata": {},
   "outputs": [
    {
     "name": "stdout",
     "output_type": "stream",
     "text": [
      "✅ Conectado ao banco de dados 'consultoria.db'\n",
      "✅ Chaves estrangeiras habilitadas\n",
      "\n",
      "🛠️ Sistema de backup/restore configurado!\n",
      "Agora vamos começar a criar nossas tabelas...\n"
     ]
    }
   ],
   "source": [
    "\n",
    "# Conectando ao banco de dados\n",
    "conn = sqlite3.connect('consultoria.db')\n",
    "\n",
    "# Se banco já existe, apaga tudo\n",
    "conn.execute(\"DROP TABLE IF EXISTS projetos\")\n",
    "conn.execute(\"DROP TABLE IF EXISTS clientes\")\n",
    "conn.execute(\"DROP TABLE IF EXISTS consultores\")\n",
    "conn.execute(\"DROP TABLE IF EXISTS feedbacks\")\n",
    "conn.execute(\"DROP TABLE IF EXISTS alocacoes\")\n",
    "\n",
    "# Habilitando suporte a chaves estrangeiras (muito importante!)\n",
    "conn.execute(\"PRAGMA foreign_keys = ON;\")\n",
    "\n",
    "print(\"✅ Conectado ao banco de dados 'consultoria.db'\")\n",
    "print(\"✅ Chaves estrangeiras habilitadas\")\n",
    "\n",
    "# Sistema de backup para rollback em caso de erro\n",
    "backup_conn = None\n",
    "\n",
    "def backup_db():\n",
    "    \"\"\"Cria um backup do banco em memória\"\"\"\n",
    "    global backup_conn\n",
    "    backup_conn = sqlite3.connect(':memory:')\n",
    "    conn.backup(backup_conn)\n",
    "    print(\"📁 Backup criado\")\n",
    "\n",
    "def restore_db():\n",
    "    \"\"\"Restaura o banco a partir do backup\"\"\"\n",
    "    global backup_conn\n",
    "    if backup_conn:\n",
    "        backup_conn.backup(conn)\n",
    "        print(\"🔄 Banco restaurado do backup\")\n",
    "    else:\n",
    "        print(\"❌ Nenhum backup disponível\")\n",
    "\n",
    "def validate_and_execute(query, test_function):\n",
    "    \"\"\"Valida query em ambiente isolado antes de executar no banco principal\"\"\"\n",
    "    if not query or not query.strip():\n",
    "        print(\"❌ Query vazia! Escreva sua query SQL antes de executar.\")\n",
    "        return False\n",
    "    \n",
    "    # Fazer backup ANTES de qualquer tentativa\n",
    "    backup_db()\n",
    "    \n",
    "    try:\n",
    "        # Testar a query em um banco temporário isolado\n",
    "        test_conn = sqlite3.connect(':memory:')\n",
    "        test_conn.execute(\"PRAGMA foreign_keys = ON;\")\n",
    "        \n",
    "        # Copiar estrutura existente para o banco de teste\n",
    "        for linha in conn.iterdump():\n",
    "            if not linha.startswith('BEGIN') and not linha.startswith('COMMIT'):\n",
    "                try:\n",
    "                    test_conn.execute(linha)\n",
    "                except:\n",
    "                    pass  # Ignora erros de estrutura já existente\n",
    "        \n",
    "        # Testar a query do usuário no banco isolado\n",
    "        test_conn.execute(query)\n",
    "        test_conn.commit()\n",
    "        \n",
    "        # Se chegou até aqui, a query é válida sintaticamente\n",
    "        # Agora executar no banco principal\n",
    "        conn.execute(query)\n",
    "        conn.commit()\n",
    "        \n",
    "        # Testar se o resultado está correto\n",
    "        success = test_function(conn)\n",
    "        \n",
    "        if success:\n",
    "            print(\"✅ Query executada e validada com sucesso!\")\n",
    "            return True\n",
    "        else:\n",
    "            # Se teste falhar, fazer rollback\n",
    "            restore_db()\n",
    "            print(\"💡 Query executada mas resultado incorreto. Banco restaurado, tente novamente!\")\n",
    "            return False\n",
    "            \n",
    "    except Exception as e:\n",
    "        print(f\"❌ Erro na query: {str(e)}\")\n",
    "        print(\"💡 Corrija a sintaxe e tente novamente!\")\n",
    "        return False\n",
    "    finally:\n",
    "        if 'test_conn' in locals():\n",
    "            test_conn.close()\n",
    "\n",
    "def test_and_rollback(test_function):\n",
    "    \"\"\"Mantido para compatibilidade - executa teste simples\"\"\"\n",
    "    success = test_function(conn)\n",
    "    if not success:\n",
    "        print(\"💡 Execute a query correta primeiro!\")\n",
    "    return success\n",
    "\n",
    "def validate_and_execute_inserts(insert_queries, test_function):\n",
    "    \"\"\"Valida e executa múltiplas queries INSERT com rollback automático\"\"\"\n",
    "    if not insert_queries or not insert_queries.strip():\n",
    "        print(\"❌ Queries vazias! Escreva seus INSERTs antes de executar.\")\n",
    "        return False\n",
    "    \n",
    "    # Fazer backup ANTES de qualquer tentativa\n",
    "    backup_db()\n",
    "    \n",
    "    try:\n",
    "        # Executar todas as queries de inserção\n",
    "        queries = [q.strip() for q in insert_queries.strip().split(';') if q.strip()]\n",
    "        \n",
    "        if not queries:\n",
    "            print(\"❌ Nenhuma query válida encontrada!\")\n",
    "            return False\n",
    "        \n",
    "        for query in queries:\n",
    "            conn.execute(query)\n",
    "        conn.commit()\n",
    "        \n",
    "        # Testar se o resultado está correto\n",
    "        success = test_function(conn)\n",
    "        \n",
    "        if success:\n",
    "            print(\"✅ Dados inseridos e validados com sucesso!\")\n",
    "            return True\n",
    "        else:\n",
    "            # Se teste falhar, fazer rollback\n",
    "            restore_db()\n",
    "            print(\"💡 Dados inseridos mas resultado incorreto. Banco restaurado, tente novamente!\")\n",
    "            return False\n",
    "            \n",
    "    except Exception as e:\n",
    "        restore_db()\n",
    "        print(f\"❌ Erro ao inserir dados: {str(e)}\")\n",
    "        print(\"💡 Corrija a sintaxe e tente novamente!\")\n",
    "        return False\n",
    "\n",
    "print(\"\\n🛠️ Sistema de backup/restore configurado!\")\n",
    "print(\"Agora vamos começar a criar nossas tabelas...\")\n",
    "def validate_and_execute_select(sql_query, test_function):\n",
    "    \"\"\"Valida e executa query SELECT com rollback automático\"\"\"\n",
    "    if not sql_query or not sql_query.strip():\n",
    "        print(\"❌ Query vazia! Escreva sua query SQL antes de executar.\")\n",
    "        return False\n",
    "    \n",
    "    backup_db()\n",
    "    \n",
    "    try:\n",
    "        success = test_function(sql_query, conn)\n",
    "        \n",
    "        if success:\n",
    "            print(\"✅ Query SELECT validada com sucesso!\")\n",
    "            df = pd.read_sql_query(sql_query, conn)\n",
    "            print(\"\\n📊 Resultado da sua query:\")\n",
    "            print(df.to_string(index=False))\n",
    "            return True\n",
    "        else:\n",
    "            restore_db()\n",
    "            print(\"💡 Query executada mas resultado incorreto. Banco restaurado, tente novamente!\")\n",
    "            return False\n",
    "            \n",
    "    except Exception as e:\n",
    "        restore_db()\n",
    "        print(f\"❌ Erro na query: {str(e)}\")\n",
    "        print(\"💡 Corrija a sintaxe e tente novamente!\")\n",
    "        return False\n",
    "\n"
   ]
  },
  {
   "cell_type": "markdown",
   "id": "d596f9d0",
   "metadata": {},
   "source": [
    "# Código abaixo é pra recarregar o cache de import das funções de teste, em produção não vai ter"
   ]
  },
  {
   "cell_type": "code",
   "execution_count": null,
   "id": "dcb6a007",
   "metadata": {},
   "outputs": [
    {
     "name": "stdout",
     "output_type": "stream",
     "text": [
      "✅ Módulo test_join recarregado com sucesso!\n",
      "📋 Funções disponíveis: ['test_inner_join', 'test_inner_join_hard', 'test_inner_join_medium', 'test_left_join', 'test_left_join_hard', 'test_left_join_medium']\n",
      "✅ Funções test_inner_join e test_left_join importadas!\n"
     ]
    }
   ],
   "source": [
    "# 🔄 IMPORTANTE: Recarregando módulo de testes\n",
    "# Isso garante que novas funções adicionadas a test_join.py sejam reconhecidas\n",
    "\n",
    "# import sys\n",
    "# import importlib\n",
    "\n",
    "# # Adiciona o diretório tests ao path (se ainda não foi feito)\n",
    "# tests_path = 'tests'\n",
    "# if tests_path not in sys.path:\n",
    "#     sys.path.append(tests_path)\n",
    "\n",
    "# # Importa e recarrega o módulo para pegar as últimas mudanças\n",
    "# try:\n",
    "#     import test_join\n",
    "#     importlib.reload(test_join)\n",
    "#     print(\"✅ Módulo test_join recarregado com sucesso!\")\n",
    "    \n",
    "#     # Lista todas as funções disponíveis no módulo\n",
    "#     functions = [func for func in dir(test_join) if callable(getattr(test_join, func)) and not func.startswith('_')]\n",
    "#     print(f\"📋 Funções disponíveis: {functions}\")\n",
    "    \n",
    "#     # Importa as funções específicas\n",
    "#     from test_join import test_inner_join, test_left_join,test_inner_join_medium,test_inner_join_hard,test_left_join_medium,test_left_join_hard\n",
    "#     print(\"✅ Funções test_inner_join e test_left_join importadas!\")\n",
    "    \n",
    "# except ImportError as e:\n",
    "#     print(f\"❌ Erro ao importar test_join: {e}\")\n",
    "# except AttributeError as e:\n",
    "#     print(f\"❌ Erro: Uma das funções não foi encontrada: {e}\")\n",
    "#     print(\"🔧 Verifique se test_inner_join e test_left_join estão definidas em test_join.py\")"
   ]
  },
  {
   "cell_type": "markdown",
   "id": "c76cd8cc",
   "metadata": {},
   "source": [
    "\n",
    "\n",
    "### 1. INNER JOIN  \n",
    "\n",
    "Retorna apenas os registros que têm correspondência nas duas tabelas.  \n",
    "\n",
    "📌 **Sintaxe**:\n",
    "```sql\n",
    "SELECT colunas\n",
    "FROM tabela1\n",
    "INNER JOIN tabela2\n",
    "    ON tabela1.coluna = tabela2.coluna;\n",
    "```\n"
   ]
  },
  {
   "cell_type": "markdown",
   "id": "320cbf7a",
   "metadata": {},
   "source": [
    "# Agora vamos praticar! "
   ]
  },
  {
   "cell_type": "code",
   "execution_count": 17,
   "id": "e1fa17c7",
   "metadata": {},
   "outputs": [
    {
     "name": "stdout",
     "output_type": "stream",
     "text": [
      "📁 Backup criado\n",
      "✅ INNER JOIN validado com sucesso! Resultado confere com o esperado.\n",
      "✅ Query SELECT validada com sucesso!\n",
      "\n",
      "📊 Resultado da sua query:\n",
      "       titulo        nome_cliente\n",
      "        ERP I  TechCorp Solutions\n",
      " MARKETING II     Verde Agro Ltda\n",
      "LOGISTICA III   FastLogistic S.A.\n",
      "  EDUCACAO IV      EduCare Ensino\n",
      "     VENDAS V MetalMax Indústrias\n",
      "FINANCEIRO VI  TechCorp Solutions\n"
     ]
    },
    {
     "data": {
      "text/plain": [
       "True"
      ]
     },
     "execution_count": 17,
     "metadata": {},
     "output_type": "execute_result"
    }
   ],
   "source": [
    "# TODO: Listar o título de cada projeto e o nome do cliente correspondente\n",
    "# Dica: Use INNER JOIN para conectar as tabelas PROJETOS e CLIENTES\n",
    "sql_inner_join_1 = \"\"\"\n",
    "SELECT p.titulo, c.nome AS nome_cliente\n",
    "FROM PROJETOS p\n",
    "INNER JOIN CLIENTES c\n",
    "    ON p.cliente_id = c.id;\n",
    "\"\"\"\n",
    "\n",
    "validate_and_execute_select(sql_inner_join_1, test_inner_join)"
   ]
  },
  {
   "cell_type": "code",
   "execution_count": 18,
   "id": "148a0374",
   "metadata": {},
   "outputs": [
    {
     "name": "stdout",
     "output_type": "stream",
     "text": [
      "📁 Backup criado\n",
      "✅ INNER JOIN (médio) validado com sucesso!\n",
      "✅ Query SELECT validada com sucesso!\n",
      "\n",
      "📊 Resultado da sua query:\n",
      "       titulo        nome_cliente  nota\n",
      "  EDUCACAO IV      EduCare Ensino     5\n",
      "        ERP I  TechCorp Solutions     5\n",
      "FINANCEIRO VI  TechCorp Solutions     4\n",
      " MARKETING II     Verde Agro Ltda     4\n",
      "     VENDAS V MetalMax Indústrias     3\n"
     ]
    },
    {
     "data": {
      "text/plain": [
       "True"
      ]
     },
     "execution_count": 18,
     "metadata": {},
     "output_type": "execute_result"
    }
   ],
   "source": [
    "#TODO: listar projeto, cliente e nota de todos os projetos avaliados, organizados por notas decrescente.\n",
    "# Dica: Use GROUP BY para agrupar por nota e titulo\n",
    "sql_inner_join_medium = \"\"\"\n",
    "SELECT\n",
    "  p.titulo,\n",
    "  c.nome AS nome_cliente,\n",
    "  f.nota\n",
    "FROM feedbacks f\n",
    "INNER JOIN projetos  p ON f.projeto_id = p.id\n",
    "INNER JOIN clientes  c ON p.cliente_id = c.id\n",
    "ORDER BY f.nota DESC, p.titulo;\n",
    "\"\"\"\n",
    "# Rodar:\n",
    "validate_and_execute_select(sql_inner_join_medium, test_inner_join_medium)"
   ]
  },
  {
   "cell_type": "code",
   "execution_count": 19,
   "id": "28a94f2d",
   "metadata": {},
   "outputs": [
    {
     "name": "stdout",
     "output_type": "stream",
     "text": [
      "📁 Backup criado\n",
      "✅ INNER JOIN (hard, sem HAVING) validado com sucesso!\n",
      "✅ Query SELECT validada com sucesso!\n",
      "\n",
      "📊 Resultado da sua query:\n",
      "      nome_cliente frente  total_horas  media_nota  qtd_projetos\n",
      "TechCorp Solutions    ENG        210.5         4.5             2\n",
      "   Verde Agro Ltda    BUS        205.5         4.0             1\n",
      "    EduCare Ensino    BUS        200.0         5.0             1\n",
      "TechCorp Solutions    DIR         80.0         5.0             1\n"
     ]
    },
    {
     "data": {
      "text/plain": [
       "True"
      ]
     },
     "execution_count": 19,
     "metadata": {},
     "output_type": "execute_result"
    }
   ],
   "source": [
    "#TODO:Para cada cliente e frente (ENG/BUS/DIR), some as horas alocadas em projetos que têm feedback com nota ≥ 4 \n",
    "# e calcule também a média da nota desses projetos e a quantidade de projetos distintos considerados.\n",
    "# Dica: Use AVG e COUNT DISTINCT para calcular a média e a contagem de projetos distintos\n",
    "sql_inner_join_hard = \"\"\"\n",
    "SELECT\n",
    "  c.nome                           AS nome_cliente,\n",
    "  co.frente                        AS frente,\n",
    "  SUM(a.horas_trabalhadas)         AS total_horas,\n",
    "  AVG(f.nota)                      AS media_nota,\n",
    "  COUNT(DISTINCT p.id)             AS qtd_projetos\n",
    "FROM clientes      c\n",
    "INNER JOIN projetos     p  ON p.cliente_id   = c.id\n",
    "INNER JOIN alocacoes    a  ON a.projeto_id   = p.id\n",
    "INNER JOIN consultores  co ON co.id          = a.consultor_id\n",
    "INNER JOIN feedbacks    f  ON f.projeto_id   = p.id\n",
    "WHERE f.nota >= 4\n",
    "GROUP BY c.nome, co.frente\n",
    "ORDER BY total_horas DESC, nome_cliente;\n",
    "\"\"\"\n",
    "\n",
    "validate_and_execute_select(sql_inner_join_hard, test_inner_join_hard)"
   ]
  },
  {
   "cell_type": "markdown",
   "id": "a5d50450",
   "metadata": {},
   "source": [
    "### 2. LEFT JOIN  \n",
    "\n",
    "Retorna **todos** os registros da tabela à esquerda (primeira tabela) e os registros correspondentes da tabela à direita. Se não houver correspondência, retorna NULL para as colunas da tabela direita.\n",
    "\n",
    "📌 **Sintaxe**:\n",
    "```sql\n",
    "SELECT colunas\n",
    "FROM tabela_esquerda\n",
    "LEFT JOIN tabela_direita\n",
    "    ON tabela_esquerda.coluna = tabela_direita.coluna;\n",
    "```\n",
    "\n",
    "📊 **Diferença do INNER JOIN**:\n",
    "- **INNER JOIN**: Só registros que têm correspondência nas duas tabelas\n",
    "- **LEFT JOIN**: Todos da esquerda + correspondências da direita (NULL se não houver)\n",
    "\n",
    "💡 **Exemplo prático**: No LEFT JOIN entre CLIENTES e PROJETOS:\n",
    "- Todos os clientes aparecerão no resultado\n",
    "- Clientes com projetos: mostram os títulos dos projetos\n",
    "- Clientes sem projetos: mostram NULL na coluna titulo"
   ]
  },
  {
   "cell_type": "code",
   "execution_count": 22,
   "id": "04d75b21",
   "metadata": {},
   "outputs": [
    {
     "name": "stdout",
     "output_type": "stream",
     "text": [
      "📁 Backup criado\n",
      "✅ LEFT JOIN validado com sucesso! Todos os projetos incluídos, mesmo sem consultores.\n",
      "✅ Query SELECT validada com sucesso!\n",
      "\n",
      "📊 Resultado da sua query:\n",
      "       titulo nome_consultor\n",
      "        ERP I      Ana Silva\n",
      "        ERP I Maria Oliveira\n",
      " MARKETING II  Carlos Santos\n",
      " MARKETING II  Fernanda Lima\n",
      "LOGISTICA III      Ana Silva\n",
      "LOGISTICA III     João Costa\n",
      "  EDUCACAO IV  Fernanda Lima\n",
      "     VENDAS V  Carlos Santos\n",
      "     VENDAS V Maria Oliveira\n",
      "FINANCEIRO VI      Ana Silva\n"
     ]
    },
    {
     "data": {
      "text/plain": [
       "True"
      ]
     },
     "execution_count": 22,
     "metadata": {},
     "output_type": "execute_result"
    }
   ],
   "source": [
    "# TODO: Listar TODOS os consultores e seus projetos (incluindo consultores sem projetos)\n",
    "# Dica: Use LEFT JOIN para garantir que todos os consultores apareçam\n",
    "\n",
    "\n",
    "sql_left_join_1 = \"\"\"\n",
    "    SELECT p.titulo, co.nome AS nome_consultor\n",
    "    FROM PROJETOS p\n",
    "    LEFT JOIN ALOCACOES a ON p.id = a.projeto_id\n",
    "    LEFT JOIN CONSULTORES co ON a.consultor_id = co.id;\n",
    "\"\"\"\n",
    "\n",
    "# Quando terminar sua query, execute a validação:\n",
    "validate_and_execute_select(sql_left_join_1, test_left_join)"
   ]
  },
  {
   "cell_type": "code",
   "execution_count": 24,
   "id": "fc078d97",
   "metadata": {},
   "outputs": [
    {
     "name": "stdout",
     "output_type": "stream",
     "text": [
      "📁 Backup criado\n",
      "✅ LEFT JOIN (médio) validado com sucesso!\n",
      "✅ Query SELECT validada com sucesso!\n",
      "\n",
      "📊 Resultado da sua query:\n",
      "       nome_cliente        titulo\n",
      "     EduCare Ensino   EDUCACAO IV\n",
      "  FastLogistic S.A. LOGISTICA III\n",
      "MetalMax Indústrias      VENDAS V\n",
      " TechCorp Solutions         ERP I\n",
      " TechCorp Solutions FINANCEIRO VI\n",
      "    Verde Agro Ltda  MARKETING II\n"
     ]
    },
    {
     "data": {
      "text/plain": [
       "True"
      ]
     },
     "execution_count": 24,
     "metadata": {},
     "output_type": "execute_result"
    }
   ],
   "source": [
    "# TODO: Listar todos os clientes e seus projetos (se existirem), e ordene por nome do cliente e título do projeto\n",
    "\n",
    "sql_left_join_2 = \"\"\"\n",
    "    SELECT\n",
    "    c.nome AS nome_cliente,\n",
    "    p.titulo\n",
    "    FROM clientes c\n",
    "    LEFT JOIN projetos p\n",
    "    ON c.id = p.cliente_id\n",
    "    ORDER BY c.nome ASC, p.titulo ASC;\n",
    "\"\"\"\n",
    "\n",
    "\n",
    "validate_and_execute_select(sql_left_join_2, test_left_join_medium)"
   ]
  },
  {
   "cell_type": "code",
   "execution_count": null,
   "id": "229faab5",
   "metadata": {},
   "outputs": [
    {
     "name": "stdout",
     "output_type": "stream",
     "text": [
      "📁 Backup criado\n",
      "✅ LEFT JOIN (difícil) validado com sucesso!\n",
      "✅ Query SELECT validada com sucesso!\n",
      "\n",
      "📊 Resultado da sua query:\n",
      "       nome_cliente  projetos_total  projetos_com_feedback  projetos_nota_ge_4  media_nota  total_horas\n",
      "     EduCare Ensino               1                      1                   1         5.0        200.0\n",
      "  FastLogistic S.A.               1                      0                   0         NaN        225.5\n",
      "MetalMax Indústrias               1                      1                   0         3.0        145.5\n",
      " TechCorp Solutions               2                      2                   2         4.5        290.5\n",
      "    Verde Agro Ltda               1                      1                   1         4.0        205.5\n"
     ]
    },
    {
     "data": {
      "text/plain": [
       "True"
      ]
     },
     "execution_count": 34,
     "metadata": {},
     "output_type": "execute_result"
    }
   ],
   "source": [
    "# TODO: Para cada cliente, listar:\n",
    "# projetos_total: nº de projetos\n",
    "# projetos_com_feedback: nº de projetos que têm ao menos 1 feedback (qualquer nota)\n",
    "# projetos_nota_ge_4: nº de projetos com nota ≥ 4\n",
    "# media_nota: média das notas dos projetos com feedback\n",
    "# total_horas: soma de horas alocadas em todos os seus projetos\n",
    "\n",
    "#Dicas:Use LEFT JOIN a partir de clientes → projetos → feedbacks e alocacoes\n",
    "# Agrupe por cliente\n",
    "# Ordene por nome_cliente ASC\n",
    "# Não filtre clientes sem feedback (devem aparecer; media_nota pode ser NULL)\n",
    "\n",
    "sql_left_join_hard = \"\"\"\n",
    "SELECT\n",
    "  c.nome AS nome_cliente,\n",
    "  COUNT(DISTINCT p.id) AS projetos_total,\n",
    "  COUNT(DISTINCT f.projeto_id) AS projetos_com_feedback,\n",
    "  COUNT(DISTINCT CASE WHEN f.nota >= 4 THEN f.projeto_id END) AS projetos_nota_ge_4,\n",
    "  (SELECT AVG(ff.nota) FROM feedbacks ff \n",
    "   JOIN projetos pp ON ff.projeto_id = pp.id \n",
    "   WHERE pp.cliente_id = c.id) AS media_nota,\n",
    "  SUM(a.horas_trabalhadas) AS total_horas\n",
    "FROM clientes c\n",
    "LEFT JOIN projetos p ON p.cliente_id = c.id\n",
    "LEFT JOIN feedbacks f ON f.projeto_id = p.id\n",
    "LEFT JOIN alocacoes a ON a.projeto_id = p.id\n",
    "GROUP BY c.nome\n",
    "ORDER BY c.nome ASC;\n",
    "\"\"\"\n",
    "\n",
    "\n",
    "# 3) rode o validador corretamente\n",
    "validate_and_execute_select(sql_left_join_hard, test_left_join_hard)"
   ]
  }
 ],
 "metadata": {
  "kernelspec": {
   "display_name": "venv",
   "language": "python",
   "name": "python3"
  },
  "language_info": {
   "codemirror_mode": {
    "name": "ipython",
    "version": 3
   },
   "file_extension": ".py",
   "mimetype": "text/x-python",
   "name": "python",
   "nbconvert_exporter": "python",
   "pygments_lexer": "ipython3",
   "version": "3.13.3"
  }
 },
 "nbformat": 4,
 "nbformat_minor": 5
}
