{
 "cells": [
  {
   "cell_type": "markdown",
   "id": "705deb6b",
   "metadata": {},
   "source": [
    "# `SELECT`\n",
    "\n",
    "Nesta aula vamos explorar o comando `SELECT`, usado para consultar a base de dados. "
   ]
  },
  {
   "cell_type": "markdown",
   "id": "66aa55c7",
   "metadata": {},
   "source": [
    "## Explorando a estrutura da base de dados\n",
    "\n",
    "vamos a alguns comandos básicos para explorar e entender melhor uma base de dados na primeira consulta"
   ]
  },
  {
   "cell_type": "code",
   "execution_count": 4,
   "id": "0ec931a9",
   "metadata": {},
   "outputs": [
    {
     "name": "stdout",
     "output_type": "stream",
     "text": [
      "✅ Conectado ao banco de dados 'consultoria.db'\n",
      "✅ Chaves estrangeiras habilitadas\n",
      "Sistema configurado\n"
     ]
    }
   ],
   "source": [
    "# Configuração inicial do banco de dados\n",
    "import sqlite3\n",
    "import os\n",
    "import sys\n",
    "\n",
    "# Adicionando o diretório de testes ao path\n",
    "from tests.tests_select import *\n",
    "\n",
    "# Conectando ao banco de dados\n",
    "conn = sqlite3.connect('consultoria.db')\n",
    "\n",
    "# Habilitando suporte a chaves estrangeiras (muito importante!)\n",
    "conn.execute(\"PRAGMA foreign_keys = ON;\")\n",
    "\n",
    "print(\"✅ Conectado ao banco de dados 'consultoria.db'\")\n",
    "print(\"✅ Chaves estrangeiras habilitadas\")\n",
    "\n",
    "\n",
    "def validate_and_execute(query, test_function):\n",
    "    \"\"\"Valida query em ambiente isolado antes de executar no banco principal\"\"\"\n",
    "    if not query or not query.strip():\n",
    "        print(\"❌ Query vazia! Escreva sua query SQL antes de executar.\")\n",
    "        return False\n",
    "    \n",
    "    \n",
    "    try:\n",
    "        # Testar a query em um banco temporário isolado\n",
    "        test_conn = sqlite3.connect(':memory:')\n",
    "        test_conn.execute(\"PRAGMA foreign_keys = ON;\")\n",
    "        \n",
    "        # Copiar estrutura existente para o banco de teste\n",
    "        for linha in conn.iterdump():\n",
    "            if not linha.startswith('BEGIN') and not linha.startswith('COMMIT'):\n",
    "                try:\n",
    "                    test_conn.execute(linha)\n",
    "                except:\n",
    "                    pass  # Ignora erros de estrutura já existente\n",
    "        \n",
    "        # Testar a query do usuário no banco isolado\n",
    "        test_conn.execute(query)\n",
    "        test_conn.commit()\n",
    "        \n",
    "        # Se chegou até aqui, a query é válida sintaticamente\n",
    "        # Agora executar no banco principal\n",
    "        conn.execute(query)\n",
    "        conn.commit()\n",
    "        \n",
    "        # Testar se o resultado está correto\n",
    "        success = test_function(conn,query)\n",
    "        \n",
    "        if success:\n",
    "            print(\"✅ Query executada e validada com sucesso!\")\n",
    "            return True\n",
    "        else:\n",
    "            # Se teste falhar, fazer rollback\n",
    "            print(\"💡 Query executada mas resultado incorreto. Banco restaurado, tente novamente!\")\n",
    "            return False\n",
    "            \n",
    "    except Exception as e:\n",
    "        print(f\"❌ Erro na query: {str(e)}\")\n",
    "        print(\"💡 Corrija a sintaxe e tente novamente!\")\n",
    "        return False\n",
    "    finally:\n",
    "        if 'test_conn' in locals():\n",
    "            test_conn.close()\n",
    "\n",
    "\n",
    "def execute_query(query):\n",
    "    \"\"\"Executa uma query e exibe os resultados de forma formatada\"\"\"\n",
    "    if not query or not query.strip():\n",
    "        print(\"❌ Query vazia! Forneça uma query SQL para executar.\")\n",
    "        return\n",
    "    \n",
    "    try:\n",
    "        cursor = conn.cursor()\n",
    "        cursor.execute(query)\n",
    "        \n",
    "        # Determinar se é um SELECT ou outro tipo de query\n",
    "        query_type = query.strip().upper().split()[0]\n",
    "        \n",
    "        if query_type == 'SELECT':\n",
    "            # Para SELECT, buscar e exibir os resultados\n",
    "            results = cursor.fetchall()\n",
    "            \n",
    "            # Obter nomes das colunas\n",
    "            column_names = [description[0] for description in cursor.description]\n",
    "            \n",
    "            if not results:\n",
    "                print(\"📄 Nenhum resultado encontrado.\")\n",
    "                return\n",
    "            \n",
    "            # Calcular largura das colunas para formatação\n",
    "            col_widths = []\n",
    "            for i, col_name in enumerate(column_names):\n",
    "                max_width = len(col_name)\n",
    "                for row in results:\n",
    "                    if row[i] is not None:\n",
    "                        max_width = max(max_width, len(str(row[i])))\n",
    "                col_widths.append(max_width + 2)  # +2 para espaçamento\n",
    "            \n",
    "            # Imprimir cabeçalho\n",
    "            print(\"\\n\" + \"=\" * (sum(col_widths) + len(column_names) - 1))\n",
    "            header = \"|\".join(col_name.ljust(col_widths[i]) for i, col_name in enumerate(column_names))\n",
    "            print(header)\n",
    "            print(\"-\" * (sum(col_widths) + len(column_names) - 1))\n",
    "            \n",
    "            # Imprimir dados\n",
    "            for row in results:\n",
    "                formatted_row = \"|\".join(\n",
    "                    str(value).ljust(col_widths[i]) if value is not None else \"NULL\".ljust(col_widths[i])\n",
    "                    for i, value in enumerate(row)\n",
    "                )\n",
    "                print(formatted_row)\n",
    "            \n",
    "            print(\"=\" * (sum(col_widths) + len(column_names) - 1))\n",
    "            print(f\"📊 Total de registros: {len(results)}\")\n",
    "            \n",
    "        else:\n",
    "            # Para INSERT, UPDATE, DELETE, etc.\n",
    "            conn.commit()\n",
    "            rows_affected = cursor.rowcount\n",
    "            \n",
    "            if query_type in ['INSERT', 'UPDATE', 'DELETE']:\n",
    "                print(f\"✅ {query_type} executado com sucesso!\")\n",
    "                if rows_affected >= 0:\n",
    "                    print(f\"📈 Linhas afetadas: {rows_affected}\")\n",
    "            else:\n",
    "                print(f\"✅ Comando {query_type} executado com sucesso!\")\n",
    "                \n",
    "    except Exception as e:\n",
    "        print(f\"❌ Erro ao executar query: {str(e)}\")\n",
    "    finally:\n",
    "        if 'cursor' in locals():\n",
    "            cursor.close()\n",
    "\n",
    "\n",
    "def test_and_rollback(test_function):\n",
    "    \"\"\"Mantido para compatibilidade - executa teste simples\"\"\"\n",
    "    success = test_function(conn)\n",
    "    if not success:\n",
    "        print(\"💡 Execute a query correta primeiro!\")\n",
    "    return success\n",
    "\n",
    "print(\"Sistema configurado\")"
   ]
  },
  {
   "cell_type": "markdown",
   "id": "7085302e",
   "metadata": {},
   "source": [
    "### O que é um Schema?\n",
    "\n",
    "O schema é a estrutura que define como os dados são organizados em um banco de dados. É como a \"planta baixa\" que mostra:\n",
    "\n",
    "1. **Tabelas**: Quais \"gavetas\" temos para guardar os dados\n",
    "   - Ex: `clientes`, `projetos`, `consultores`\n",
    "\n",
    "2. **Colunas**: Que informações guardamos em cada tabela\n",
    "   - Ex: em `clientes` temos: id, nome, setor, cidade\n",
    "\n",
    "3. **Tipos de Dados**: Que tipo de valor cada coluna aceita\n",
    "   - `INTEGER`: números inteiros (1, 2, 3)\n",
    "   - `TEXT`: textos (\"Ana\", \"São Paulo\")\n",
    "   - `DATE`: datas (2024-01-15)\n",
    "\n",
    "4. **Relacionamentos**: Como as tabelas se conectam\n",
    "   - Ex: cada `projeto` pertence a um `cliente`\n",
    "\n",
    "### Comandos para Explorar o Schema\n",
    "\n",
    "Em outros bancos SQL (como MySQL), usamos:\n",
    "- `SHOW TABLES;` para listar todas as tabelas\n",
    "- `DESCRIBE tabela;` para ver a estrutura de uma tabela\n",
    "\n",
    "Porém, no SQLite esses comandos não existem!\n",
    " \n",
    "Mas conseguimos o mesmo resultado usando:\n",
    "\n",
    "```sql\n",
    "-- Equivalente ao SHOW TABLES:\n",
    "SELECT name FROM sqlite_master WHERE type='table';\n",
    "\n",
    "-- Equivalente ao DESCRIBE tabela:\n",
    "PRAGMA table_info(nome_da_tabela);\n",
    "```\n",
    "\n",
    "### Antes de Começar com SELECT vamos ter uma visao detalhada do nosso Schema:"
   ]
  },
  {
   "cell_type": "markdown",
   "id": "139cfa29",
   "metadata": {},
   "source": [
    "# Diagrama do Banco de Dados\n",
    "\n",
    "![Diagrama EER](assets/diagram.png)\n",
    "\n"
   ]
  },
  {
   "cell_type": "code",
   "execution_count": 2,
   "id": "32b8df59",
   "metadata": {},
   "outputs": [
    {
     "name": "stdout",
     "output_type": "stream",
     "text": [
      "\n",
      "======================================================================\n",
      "id  |nome                    |setor        |cidade               |uf  \n",
      "----------------------------------------------------------------------\n",
      "1   |TechCorp Solutions      |Tecnologia   |São Paulo            |SP  \n",
      "2   |Verde Agro Ltda         |Agronegócio  |Campinas             |SP  \n",
      "3   |MetalMax Indústrias     |Metalurgia   |Santos               |SP  \n",
      "4   |EduCare Ensino          |Educação     |Ribeirão Preto       |SP  \n",
      "5   |FastLogistic S.A.       |Logística    |São José dos Campos  |SP  \n",
      "6   |Mineração Ouro Verde    |Mineração    |Belo Horizonte       |MG  \n",
      "7   |Café Premium Montanhas  |Agronegócio  |Uberlândia           |MG  \n",
      "8   |PetroSul Distribuidora  |Petróleo     |Rio de Janeiro       |RJ  \n",
      "9   |BeachTech Inovação      |Tecnologia   |Niterói              |RJ  \n",
      "10  |TurisRio Hospedagem     |Turismo      |Cabo Frio            |RJ  \n",
      "======================================================================\n",
      "📊 Total de registros: 10\n"
     ]
    }
   ],
   "source": [
    "execute_query(\"SELECT * FROM clientes\")"
   ]
  },
  {
   "cell_type": "markdown",
   "id": "e1fb8b5c",
   "metadata": {},
   "source": [
    "## Para selecioanar uma coluna especifica:\n",
    "```sql\n",
    "SELECT {coluna} FROM {tabela}\n",
    "```"
   ]
  },
  {
   "cell_type": "code",
   "execution_count": null,
   "id": "3b9c82c1",
   "metadata": {},
   "outputs": [
    {
     "name": "stdout",
     "output_type": "stream",
     "text": [
      "\n",
      "RESULTADO ESPERADO:\n",
      "==================================================\n",
      "      setor              cidade uf\n",
      " Tecnologia           São Paulo SP\n",
      "Agronegócio            Campinas SP\n",
      " Metalurgia              Santos SP\n",
      "   Educação      Ribeirão Preto SP\n",
      "  Logística São José dos Campos SP\n",
      "\n",
      "📊 SEU RESULTADO:\n",
      "==================================================\n",
      "      setor              cidade uf\n",
      " Tecnologia           São Paulo SP\n",
      "Agronegócio            Campinas SP\n",
      " Metalurgia              Santos SP\n",
      "   Educação      Ribeirão Preto SP\n",
      "  Logística São José dos Campos SP\n",
      "  Mineração      Belo Horizonte MG\n",
      "Agronegócio          Uberlândia MG\n",
      "   Petróleo      Rio de Janeiro RJ\n",
      " Tecnologia             Niterói RJ\n",
      "    Turismo           Cabo Frio RJ\n",
      "\n",
      "\n",
      "❌ FALHOU: Os resultados não são iguais\n",
      "💡 Dica: Verifique se você selecionou apenas as colunas pedidas na ordem correta\n",
      "💡 Query executada mas resultado incorreto. Banco restaurado, tente novamente!\n"
     ]
    },
    {
     "data": {
      "text/plain": [
       "False"
      ]
     },
     "execution_count": 3,
     "metadata": {},
     "output_type": "execute_result"
    }
   ],
   "source": [
    "#TODO Preencha a para selecionar as colunas setor,cidade e uf:\n",
    "select_x_query = '''\n",
    "    \n",
    "'''\n",
    "\n",
    "validate_and_execute(select_x_query, test_select_scu_clientes)"
   ]
  },
  {
   "cell_type": "code",
   "execution_count": 4,
   "id": "d0438eef",
   "metadata": {},
   "outputs": [],
   "source": [
    "# DESCOMENTE E EXECUTE ESSA CÉLULA APENAS 1 VEZ\n",
    "\n",
    "#execute_query(\"\"\"\n",
    "#INSERT INTO clientes(nome, setor, cidade, uf)\n",
    "#    VALUES\n",
    "#    ('Mineração Ouro Verde', 'Mineração', 'Belo Horizonte', 'MG'),\n",
    "#    ('Café Premium Montanhas', 'Agronegócio', 'Uberlândia', 'MG'),\n",
    "#    ('PetroSul Distribuidora', 'Petróleo', 'Rio de Janeiro', 'RJ'),\n",
    "#    ('BeachTech Inovação', 'Tecnologia', 'Niterói', 'RJ'),\n",
    "#    ('TurisRio Hospedagem', 'Turismo', 'Cabo Frio', 'RJ')\n",
    "#\"\"\")"
   ]
  },
  {
   "cell_type": "markdown",
   "id": "26c99b78",
   "metadata": {},
   "source": [
    "### Agora vamos filtrar ainda mais, selecione apenas os clientes do estado de Sao Paulo\n",
    "\n",
    "```sql\n",
    "SELECT {} FROM tabela WHERE {coluna} LIKE {regra}\n",
    "```"
   ]
  },
  {
   "cell_type": "code",
   "execution_count": 5,
   "id": "9762b40c",
   "metadata": {},
   "outputs": [
    {
     "name": "stdout",
     "output_type": "stream",
     "text": [
      "\n",
      "===================================================================\n",
      "id  |nome                 |setor        |cidade               |uf  \n",
      "-------------------------------------------------------------------\n",
      "1   |TechCorp Solutions   |Tecnologia   |São Paulo            |SP  \n",
      "2   |Verde Agro Ltda      |Agronegócio  |Campinas             |SP  \n",
      "3   |MetalMax Indústrias  |Metalurgia   |Santos               |SP  \n",
      "4   |EduCare Ensino       |Educação     |Ribeirão Preto       |SP  \n",
      "5   |FastLogistic S.A.    |Logística    |São José dos Campos  |SP  \n",
      "===================================================================\n",
      "📊 Total de registros: 5\n"
     ]
    }
   ],
   "source": [
    "execute_query(\" SELECT * FROM clientes WHERE uf LIKE 'sp' \")"
   ]
  },
  {
   "cell_type": "code",
   "execution_count": 6,
   "id": "04b11ea3",
   "metadata": {},
   "outputs": [
    {
     "name": "stdout",
     "output_type": "stream",
     "text": [
      "❌ Query vazia! Escreva sua query SQL antes de executar.\n"
     ]
    },
    {
     "data": {
      "text/plain": [
       "False"
      ]
     },
     "execution_count": 6,
     "metadata": {},
     "output_type": "execute_result"
    }
   ],
   "source": [
    "#TODO agora selecione os clientes que o setor começa com T\n",
    "\n",
    "select_x2_query = '''\n",
    "\n",
    "'''\n",
    "\n",
    "validate_and_execute(select_x2_query, test_select_2_clientes)"
   ]
  },
  {
   "cell_type": "markdown",
   "id": "757d63a8",
   "metadata": {},
   "source": [
    "## Vamos fazer alguns exercicios para praticar:"
   ]
  },
  {
   "cell_type": "code",
   "execution_count": 7,
   "id": "87987e36",
   "metadata": {},
   "outputs": [
    {
     "name": "stdout",
     "output_type": "stream",
     "text": [
      "❌ Query vazia! Escreva sua query SQL antes de executar.\n"
     ]
    },
    {
     "data": {
      "text/plain": [
       "False"
      ]
     },
     "execution_count": 7,
     "metadata": {},
     "output_type": "execute_result"
    }
   ],
   "source": [
    "#TODO selecione as alocacoes com mais de 100 horas trabalhadas \n",
    "select_x3_query = '''\n",
    "    \n",
    "'''\n",
    "\n",
    "validate_and_execute(select_x3_query, test_select_3)"
   ]
  },
  {
   "cell_type": "markdown",
   "id": "627d0258",
   "metadata": {},
   "source": [
    "Tambem podemos usar o ```ORDER BY``` para ordenar as linhas da resposta\n",
    "e adicioanar um ```DESC``` para influenciar na ordem"
   ]
  },
  {
   "cell_type": "code",
   "execution_count": 8,
   "id": "69b9d3f1",
   "metadata": {},
   "outputs": [
    {
     "name": "stdout",
     "output_type": "stream",
     "text": [
      "❌ Query vazia! Escreva sua query SQL antes de executar.\n"
     ]
    },
    {
     "data": {
      "text/plain": [
       "False"
      ]
     },
     "execution_count": 8,
     "metadata": {},
     "output_type": "execute_result"
    }
   ],
   "source": [
    "#TODO Ordene a resposta acima por quem trabalhou mais horas\n",
    "\n",
    "select_x4_query = '''\n",
    "\n",
    "'''\n",
    "\n",
    "validate_and_execute(select_x4_query, test_select_4)"
   ]
  },
  {
   "cell_type": "markdown",
   "id": "5d50391b",
   "metadata": {},
   "source": [
    "### Mas e se quisermos ver apenas a alocacao com mais horas trabalhadas?\n",
    "### Em vez de receber uma lista com todas, receber uma única alocacao?\n",
    "### Para isso utilizamos o ```LIMIT```, que limita a quantidade de linhas retornadas"
   ]
  },
  {
   "cell_type": "code",
   "execution_count": 9,
   "id": "ad71be4a",
   "metadata": {},
   "outputs": [
    {
     "name": "stdout",
     "output_type": "stream",
     "text": [
      "❌ Query vazia! Escreva sua query SQL antes de executar.\n"
     ]
    },
    {
     "data": {
      "text/plain": [
       "False"
      ]
     },
     "execution_count": 9,
     "metadata": {},
     "output_type": "execute_result"
    }
   ],
   "source": [
    "#TODO Devolva apenas o projeto com mais horas trabalhadas\n",
    "\n",
    "select_x5_query = '''\n",
    "    \n",
    "'''\n",
    "\n",
    "validate_and_execute(select_x5_query, test_select_5)"
   ]
  },
  {
   "cell_type": "markdown",
   "id": "ab258080",
   "metadata": {},
   "source": [
    "### AS\n",
    " Podemos usar o ```as``` quando o nome de uma coluna deve ser retornado de forma diferente do original\n",
    "\n",
    "```sql\n",
    " SELECT {nome_coluna} as {novo_nome}```"
   ]
  },
  {
   "cell_type": "code",
   "execution_count": 10,
   "id": "1403e300",
   "metadata": {},
   "outputs": [
    {
     "name": "stdout",
     "output_type": "stream",
     "text": [
      "\n",
      "=================\n",
      "nome_do_projeto  \n",
      "-----------------\n",
      "ERP I            \n",
      "MARKETING II     \n",
      "LOGISTICA III    \n",
      "EDUCACAO IV      \n",
      "VENDAS V         \n",
      "FINANCEIRO VI    \n",
      "=================\n",
      "📊 Total de registros: 6\n"
     ]
    }
   ],
   "source": [
    "execute_query(\"SELECT titulo as nome_do_projeto FROM projetos\")"
   ]
  },
  {
   "cell_type": "markdown",
   "id": "e0214eb5",
   "metadata": {},
   "source": [
    "### Agora que voce ja tem nocoes basicas de SQL, vamos para alguns exercicios práticos:"
   ]
  },
  {
   "cell_type": "markdown",
   "id": "6ad29b0f",
   "metadata": {},
   "source": [
    "## Exercicio ```01```:\n",
    "### Qual o id do projeto que teve a pior avaliação? Retorne em uma coluna chamada ```pior_projeto```"
   ]
  },
  {
   "cell_type": "code",
   "execution_count": 11,
   "id": "2385acb5",
   "metadata": {},
   "outputs": [
    {
     "name": "stdout",
     "output_type": "stream",
     "text": [
      "❌ Query vazia! Escreva sua query SQL antes de executar.\n"
     ]
    },
    {
     "data": {
      "text/plain": [
       "False"
      ]
     },
     "execution_count": 11,
     "metadata": {},
     "output_type": "execute_result"
    }
   ],
   "source": [
    "#TODO Escreva aqui sua query:\n",
    "select_ex1_query = '''\n",
    "    \n",
    "'''\n",
    "\n",
    "validate_and_execute(select_ex1_query, test_ex1)"
   ]
  },
  {
   "cell_type": "markdown",
   "id": "30747752",
   "metadata": {},
   "source": [
    "## Exercicio ```02```\n",
    "### Quais projetos ainda nao terminaram? Retorno os nomes do projeto em uma coluna chamada ```nao_acabou```\n",
    "\n",
    "```DICA:``` NULL"
   ]
  },
  {
   "cell_type": "code",
   "execution_count": 12,
   "id": "0abd6fda",
   "metadata": {},
   "outputs": [
    {
     "name": "stdout",
     "output_type": "stream",
     "text": [
      "❌ Query vazia! Escreva sua query SQL antes de executar.\n"
     ]
    },
    {
     "data": {
      "text/plain": [
       "False"
      ]
     },
     "execution_count": 12,
     "metadata": {},
     "output_type": "execute_result"
    }
   ],
   "source": [
    "selext_ex2_query = '''\n",
    "    \n",
    "'''\n",
    "\n",
    "validate_and_execute(selext_ex2_query, test_ex2)"
   ]
  },
  {
   "cell_type": "markdown",
   "id": "e1ae426d",
   "metadata": {},
   "source": [
    "## Exercicio ```03```\n",
    "## Quais projetos começaram antes de abril e já foram entregues?\n",
    "Retorne lista chamada 'finalizados'\n",
    "\n",
    "```DICA:```AND e MONTH\n"
   ]
  },
  {
   "cell_type": "code",
   "execution_count": 13,
   "id": "1b4391b3",
   "metadata": {},
   "outputs": [
    {
     "name": "stdout",
     "output_type": "stream",
     "text": [
      "❌ Query vazia! Escreva sua query SQL antes de executar.\n"
     ]
    },
    {
     "data": {
      "text/plain": [
       "False"
      ]
     },
     "execution_count": 13,
     "metadata": {},
     "output_type": "execute_result"
    }
   ],
   "source": [
    "select_ex3_query = '''\n",
    "    \n",
    "'''\n",
    "\n",
    "validate_and_execute(select_ex3_query,test_ex3)"
   ]
  },
  {
   "cell_type": "markdown",
   "id": "3017da5f",
   "metadata": {},
   "source": [
    "## Exercicio ```04```\n",
    "### Agora filtre as alocacoes que trabalharam entre 80 e 100 horas\n",
    "\n",
    "```DICA:``` BETWEEN"
   ]
  },
  {
   "cell_type": "code",
   "execution_count": 14,
   "id": "4fe3437f",
   "metadata": {},
   "outputs": [
    {
     "name": "stdout",
     "output_type": "stream",
     "text": [
      "❌ Query vazia! Escreva sua query SQL antes de executar.\n"
     ]
    },
    {
     "data": {
      "text/plain": [
       "False"
      ]
     },
     "execution_count": 14,
     "metadata": {},
     "output_type": "execute_result"
    }
   ],
   "source": [
    "select_ex4_query='''\n",
    "    \n",
    "'''\n",
    "\n",
    "validate_and_execute(select_ex4_query, test_ex4)"
   ]
  },
  {
   "cell_type": "markdown",
   "id": "9b0ecc09",
   "metadata": {},
   "source": [
    "## Exercicio ```05```\n",
    "### Retorne uma lista com o nome dos clientes que moram em SP ou que são do Agronegócio\n"
   ]
  },
  {
   "cell_type": "code",
   "execution_count": null,
   "id": "b644e23d",
   "metadata": {},
   "outputs": [
    {
     "name": "stdout",
     "output_type": "stream",
     "text": [
      "\n",
      "RESULTADO ESPERADO:\n",
      "==================================================\n",
      "                  nome\n",
      "    TechCorp Solutions\n",
      "       Verde Agro Ltda\n",
      "   MetalMax Indústrias\n",
      "        EduCare Ensino\n",
      "     FastLogistic S.A.\n",
      "Café Premium Montanhas\n",
      "\n",
      "📊 SEU RESULTADO:\n",
      "==================================================\n",
      "                  nome\n",
      "    TechCorp Solutions\n",
      "       Verde Agro Ltda\n",
      "   MetalMax Indústrias\n",
      "        EduCare Ensino\n",
      "     FastLogistic S.A.\n",
      "Café Premium Montanhas\n",
      "\n",
      "\n",
      "✅ PASSOU: SELECT - setor, cidade e uf dos clientes\n",
      "✅ Query executada e validada com sucesso!\n"
     ]
    },
    {
     "data": {
      "text/plain": [
       "True"
      ]
     },
     "execution_count": 17,
     "metadata": {},
     "output_type": "execute_result"
    }
   ],
   "source": [
    "select_ex5_query = '''\n",
    "\n",
    "'''\n",
    "\n",
    "validate_and_execute(select_ex5_query, test_ex5)"
   ]
  }
 ],
 "metadata": {
  "kernelspec": {
   "display_name": ".venv",
   "language": "python",
   "name": "python3"
  },
  "language_info": {
   "codemirror_mode": {
    "name": "ipython",
    "version": 3
   },
   "file_extension": ".py",
   "mimetype": "text/x-python",
   "name": "python",
   "nbconvert_exporter": "python",
   "pygments_lexer": "ipython3",
   "version": "3.12.10"
  }
 },
 "nbformat": 4,
 "nbformat_minor": 5
}
