{
 "cells": [
  {
   "cell_type": "markdown",
   "id": "705deb6b",
   "metadata": {},
   "source": [
    "# `SELECT`\n",
    "\n",
    "Nesta aula vamos explorar o comando `SELECT`, usado para consultar a base de dados. "
   ]
  },
  {
   "cell_type": "markdown",
   "id": "66aa55c7",
   "metadata": {},
   "source": [
    "## Explorando a estrutura da base de dados\n",
    "\n",
    "vamos a alguns comandos básicos para explorar e entender melhor uma base de dados na primeira consulta"
   ]
  },
  {
   "cell_type": "code",
   "execution_count": 28,
   "id": "0ec931a9",
   "metadata": {},
   "outputs": [
    {
     "name": "stdout",
     "output_type": "stream",
     "text": [
      "✅ Conectado ao banco de dados 'consultoria.db'\n",
      "✅ Chaves estrangeiras habilitadas\n",
      "Sistema configurado\n"
     ]
    }
   ],
   "source": [
    "# Configuração inicial do banco de dados\n",
    "import sqlite3\n",
    "import os\n",
    "import sys\n",
    "\n",
    "# Adicionando o diretório de testes ao path\n",
    "from tests.tests_select import *\n",
    "\n",
    "# Conectando ao banco de dados\n",
    "conn = sqlite3.connect('consultoria.db')\n",
    "\n",
    "# Habilitando suporte a chaves estrangeiras (muito importante!)\n",
    "conn.execute(\"PRAGMA foreign_keys = ON;\")\n",
    "\n",
    "print(\"✅ Conectado ao banco de dados 'consultoria.db'\")\n",
    "print(\"✅ Chaves estrangeiras habilitadas\")\n",
    "\n",
    "\n",
    "def validate_and_execute(query, test_function):\n",
    "    \"\"\"Valida query em ambiente isolado antes de executar no banco principal\"\"\"\n",
    "    if not query or not query.strip():\n",
    "        print(\"❌ Query vazia! Escreva sua query SQL antes de executar.\")\n",
    "        return False\n",
    "    \n",
    "    \n",
    "    try:\n",
    "        # Testar a query em um banco temporário isolado\n",
    "        test_conn = sqlite3.connect(':memory:')\n",
    "        test_conn.execute(\"PRAGMA foreign_keys = ON;\")\n",
    "        \n",
    "        # Copiar estrutura existente para o banco de teste\n",
    "        for linha in conn.iterdump():\n",
    "            if not linha.startswith('BEGIN') and not linha.startswith('COMMIT'):\n",
    "                try:\n",
    "                    test_conn.execute(linha)\n",
    "                except:\n",
    "                    pass  # Ignora erros de estrutura já existente\n",
    "        \n",
    "        # Testar a query do usuário no banco isolado\n",
    "        test_conn.execute(query)\n",
    "        test_conn.commit()\n",
    "        \n",
    "        # Se chegou até aqui, a query é válida sintaticamente\n",
    "        # Agora executar no banco principal\n",
    "        conn.execute(query)\n",
    "        conn.commit()\n",
    "        \n",
    "        # Testar se o resultado está correto\n",
    "        success = test_function(conn,query)\n",
    "        \n",
    "        if success:\n",
    "            print(\"✅ Query executada e validada com sucesso!\")\n",
    "            return True\n",
    "        else:\n",
    "            # Se teste falhar, fazer rollback\n",
    "            print(\"💡 Query executada mas resultado incorreto. Banco restaurado, tente novamente!\")\n",
    "            return False\n",
    "            \n",
    "    except Exception as e:\n",
    "        print(f\"❌ Erro na query: {str(e)}\")\n",
    "        print(\"💡 Corrija a sintaxe e tente novamente!\")\n",
    "        return False\n",
    "    finally:\n",
    "        if 'test_conn' in locals():\n",
    "            test_conn.close()\n",
    "\n",
    "\n",
    "def execute_query(query):\n",
    "    \"\"\"Executa uma query e exibe os resultados de forma formatada\"\"\"\n",
    "    if not query or not query.strip():\n",
    "        print(\"❌ Query vazia! Forneça uma query SQL para executar.\")\n",
    "        return\n",
    "    \n",
    "    try:\n",
    "        cursor = conn.cursor()\n",
    "        cursor.execute(query)\n",
    "        \n",
    "        # Determinar se é um SELECT ou outro tipo de query\n",
    "        query_type = query.strip().upper().split()[0]\n",
    "        \n",
    "        if query_type == 'SELECT':\n",
    "            # Para SELECT, buscar e exibir os resultados\n",
    "            results = cursor.fetchall()\n",
    "            \n",
    "            # Obter nomes das colunas\n",
    "            column_names = [description[0] for description in cursor.description]\n",
    "            \n",
    "            if not results:\n",
    "                print(\"📄 Nenhum resultado encontrado.\")\n",
    "                return\n",
    "            \n",
    "            # Calcular largura das colunas para formatação\n",
    "            col_widths = []\n",
    "            for i, col_name in enumerate(column_names):\n",
    "                max_width = len(col_name)\n",
    "                for row in results:\n",
    "                    if row[i] is not None:\n",
    "                        max_width = max(max_width, len(str(row[i])))\n",
    "                col_widths.append(max_width + 2)  # +2 para espaçamento\n",
    "            \n",
    "            # Imprimir cabeçalho\n",
    "            print(\"\\n\" + \"=\" * (sum(col_widths) + len(column_names) - 1))\n",
    "            header = \"|\".join(col_name.ljust(col_widths[i]) for i, col_name in enumerate(column_names))\n",
    "            print(header)\n",
    "            print(\"-\" * (sum(col_widths) + len(column_names) - 1))\n",
    "            \n",
    "            # Imprimir dados\n",
    "            for row in results:\n",
    "                formatted_row = \"|\".join(\n",
    "                    str(value).ljust(col_widths[i]) if value is not None else \"NULL\".ljust(col_widths[i])\n",
    "                    for i, value in enumerate(row)\n",
    "                )\n",
    "                print(formatted_row)\n",
    "            \n",
    "            print(\"=\" * (sum(col_widths) + len(column_names) - 1))\n",
    "            print(f\"📊 Total de registros: {len(results)}\")\n",
    "            \n",
    "        else:\n",
    "            # Para INSERT, UPDATE, DELETE, etc.\n",
    "            conn.commit()\n",
    "            rows_affected = cursor.rowcount\n",
    "            \n",
    "            if query_type in ['INSERT', 'UPDATE', 'DELETE']:\n",
    "                print(f\"✅ {query_type} executado com sucesso!\")\n",
    "                if rows_affected >= 0:\n",
    "                    print(f\"📈 Linhas afetadas: {rows_affected}\")\n",
    "            else:\n",
    "                print(f\"✅ Comando {query_type} executado com sucesso!\")\n",
    "                \n",
    "    except Exception as e:\n",
    "        print(f\"❌ Erro ao executar query: {str(e)}\")\n",
    "    finally:\n",
    "        if 'cursor' in locals():\n",
    "            cursor.close()\n",
    "\n",
    "\n",
    "def test_and_rollback(test_function):\n",
    "    \"\"\"Mantido para compatibilidade - executa teste simples\"\"\"\n",
    "    success = test_function(conn)\n",
    "    if not success:\n",
    "        print(\"💡 Execute a query correta primeiro!\")\n",
    "    return success\n",
    "\n",
    "print(\"Sistema configurado\")"
   ]
  },
  {
   "cell_type": "markdown",
   "id": "7085302e",
   "metadata": {},
   "source": [
    "### O que é um Schema?\n",
    "\n",
    "O schema é a estrutura que define como os dados são organizados em um banco de dados. É como a \"planta baixa\" que mostra:\n",
    "\n",
    "1. **Tabelas**: Quais \"gavetas\" temos para guardar os dados\n",
    "   - Ex: `clientes`, `projetos`, `consultores`\n",
    "\n",
    "2. **Colunas**: Que informações guardamos em cada tabela\n",
    "   - Ex: em `clientes` temos: id, nome, setor, cidade\n",
    "\n",
    "3. **Tipos de Dados**: Que tipo de valor cada coluna aceita\n",
    "   - `INTEGER`: números inteiros (1, 2, 3)\n",
    "   - `TEXT`: textos (\"Ana\", \"São Paulo\")\n",
    "   - `DATE`: datas (2024-01-15)\n",
    "\n",
    "4. **Relacionamentos**: Como as tabelas se conectam\n",
    "   - Ex: cada `projeto` pertence a um `cliente`\n",
    "\n",
    "### Comandos para Explorar o Schema\n",
    "\n",
    "Em outros bancos SQL (como MySQL), usamos:\n",
    "- `SHOW TABLES;` para listar todas as tabelas\n",
    "- `DESCRIBE tabela;` para ver a estrutura de uma tabela\n",
    "\n",
    "Porém, no SQLite esses comandos não existem! 😅 \n",
    "Mas conseguimos o mesmo resultado usando:\n",
    "\n",
    "```sql\n",
    "-- Equivalente ao SHOW TABLES:\n",
    "SELECT name FROM sqlite_master WHERE type='table';\n",
    "\n",
    "-- Equivalente ao DESCRIBE tabela:\n",
    "PRAGMA table_info(nome_da_tabela);\n",
    "```\n",
    "\n",
    "### 🎯 Antes de Começar com SELECT\n",
    "\n",
    "Antes de fazer nossas primeiras consultas com `SELECT`, é importante entender bem a estrutura do banco. \n",
    "Vamos usar os comandos acima para explorar:\n",
    "1. Quais tabelas temos disponíveis\n",
    "2. Que campos cada tabela possui\n",
    "3. Como as tabelas se relacionam\n",
    "\n",
    "Isso vai nos ajudar a fazer consultas mais eficientes!"
   ]
  },
  {
   "cell_type": "markdown",
   "id": "c3b7b75f",
   "metadata": {},
   "source": [
    "### 🔍 Estrutura das Tabelas (equivalente ao DESCRIBE)"
   ]
  },
  {
   "cell_type": "markdown",
   "id": "139cfa29",
   "metadata": {},
   "source": [
    "# Diagrama do Banco de Dados\n",
    "\n",
    "![Diagrama EER](assets/diagram.png)\n",
    "\n"
   ]
  },
  {
   "cell_type": "code",
   "execution_count": 29,
   "id": "32b8df59",
   "metadata": {},
   "outputs": [
    {
     "name": "stdout",
     "output_type": "stream",
     "text": [
      "❌ Erro ao executar query: database is locked\n"
     ]
    }
   ],
   "source": [
    "execute_query(\"SELECT * FROM clientes\")"
   ]
  },
  {
   "cell_type": "code",
   "execution_count": null,
   "id": "2efa44ef",
   "metadata": {},
   "outputs": [
    {
     "name": "stdout",
     "output_type": "stream",
     "text": [
      "\n",
      "=====================\n",
      "nome                 \n",
      "---------------------\n",
      "TechCorp Solutions   \n",
      "Verde Agro Ltda      \n",
      "MetalMax Indústrias  \n",
      "EduCare Ensino       \n",
      "FastLogistic S.A.    \n",
      "=====================\n",
      "📊 Total de registros: 5\n"
     ]
    }
   ],
   "source": []
  },
  {
   "cell_type": "code",
   "execution_count": 30,
   "id": "3b9c82c1",
   "metadata": {},
   "outputs": [
    {
     "name": "stdout",
     "output_type": "stream",
     "text": [
      "❌ Erro na query: database is locked\n",
      "💡 Corrija a sintaxe e tente novamente!\n"
     ]
    },
    {
     "data": {
      "text/plain": [
       "False"
      ]
     },
     "execution_count": 30,
     "metadata": {},
     "output_type": "execute_result"
    }
   ],
   "source": [
    "#Preencha a query:\n",
    "select_x_query = '''\n",
    "    SELECT setor,cidade,uf FROM clientes\n",
    "'''\n",
    "\n",
    "validate_and_execute(select_x_query, test_select_scu_clientes)"
   ]
  },
  {
   "cell_type": "code",
   "execution_count": 26,
   "id": "d0438eef",
   "metadata": {},
   "outputs": [
    {
     "name": "stdout",
     "output_type": "stream",
     "text": [
      "❌ Erro ao executar query: database is locked\n"
     ]
    }
   ],
   "source": [
    "execute_query(\"\"\"\n",
    "INSERT INTO clientes(nome, setor, cidade, uf)\n",
    "    VALUES\n",
    "    ('Mineração Ouro Verde', 'Mineração', 'Belo Horizonte', 'MG'),\n",
    "    ('Café Premium Montanhas', 'Agronegócio', 'Uberlândia', 'MG'),\n",
    "    ('PetroSul Distribuidora', 'Petróleo', 'Rio de Janeiro', 'RJ'),\n",
    "    ('BeachTech Inovação', 'Tecnologia', 'Niterói', 'RJ'),\n",
    "    ('TurisRio Hospedagem', 'Turismo', 'Cabo Frio', 'RJ')\n",
    "\"\"\")"
   ]
  },
  {
   "cell_type": "code",
   "execution_count": null,
   "id": "3f7cf306",
   "metadata": {},
   "outputs": [],
   "source": []
  }
 ],
 "metadata": {
  "kernelspec": {
   "display_name": ".venv",
   "language": "python",
   "name": "python3"
  },
  "language_info": {
   "codemirror_mode": {
    "name": "ipython",
    "version": 3
   },
   "file_extension": ".py",
   "mimetype": "text/x-python",
   "name": "python",
   "nbconvert_exporter": "python",
   "pygments_lexer": "ipython3",
   "version": "3.12.10"
  }
 },
 "nbformat": 4,
 "nbformat_minor": 5
}
