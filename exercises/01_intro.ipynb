{
 "cells": [
  {
   "cell_type": "markdown",
   "id": "4e8574aa",
   "metadata": {},
   "source": [
    "# Introdução: Listar todos os autores\n",
    "Utilize uma consulta SQL para exibir todos os autores cadastrados na tabela `autores`.\n",
    "\n",
    "Escreva apenas a query SQL na célula abaixo."
   ]
  },
  {
   "cell_type": "code",
   "execution_count": 1,
   "id": "7dadac8a",
   "metadata": {},
   "outputs": [],
   "source": [
    "import sqlite3\n",
    "import pandas as pd"
   ]
  },
  {
   "cell_type": "code",
   "execution_count": 2,
   "id": "a4178aea",
   "metadata": {},
   "outputs": [],
   "source": [
    "def format_df(result, cursor):\n",
    "    colunas = [desc[0] for desc in cursor.description]\n",
    "    df = pd.DataFrame(result, columns=colunas)\n",
    "    return df"
   ]
  },
  {
   "cell_type": "code",
   "execution_count": 3,
   "id": "b8ff3a75",
   "metadata": {},
   "outputs": [],
   "source": [
    "from tests import tests"
   ]
  },
  {
   "cell_type": "markdown",
   "id": "4948343e",
   "metadata": {},
   "source": [
    "# Exercício 1:"
   ]
  },
  {
   "cell_type": "code",
   "execution_count": 8,
   "id": "19a68ba0",
   "metadata": {},
   "outputs": [],
   "source": [
    "# Defina sua consulta SQL abaixo\n",
    "query = \"SELECT * FROM autores\"  # Exemplo, substitua pela sua resposta"
   ]
  },
  {
   "cell_type": "code",
   "execution_count": 9,
   "id": "c0ba6aa4",
   "metadata": {},
   "outputs": [
    {
     "data": {
      "text/html": [
       "<div>\n",
       "<style scoped>\n",
       "    .dataframe tbody tr th:only-of-type {\n",
       "        vertical-align: middle;\n",
       "    }\n",
       "\n",
       "    .dataframe tbody tr th {\n",
       "        vertical-align: top;\n",
       "    }\n",
       "\n",
       "    .dataframe thead th {\n",
       "        text-align: right;\n",
       "    }\n",
       "</style>\n",
       "<table border=\"1\" class=\"dataframe\">\n",
       "  <thead>\n",
       "    <tr style=\"text-align: right;\">\n",
       "      <th></th>\n",
       "      <th>id</th>\n",
       "      <th>nome</th>\n",
       "      <th>nascimento</th>\n",
       "    </tr>\n",
       "  </thead>\n",
       "  <tbody>\n",
       "    <tr>\n",
       "      <th>0</th>\n",
       "      <td>1</td>\n",
       "      <td>Machado de Assis</td>\n",
       "      <td>1839</td>\n",
       "    </tr>\n",
       "    <tr>\n",
       "      <th>1</th>\n",
       "      <td>2</td>\n",
       "      <td>Clarice Lispector</td>\n",
       "      <td>1920</td>\n",
       "    </tr>\n",
       "    <tr>\n",
       "      <th>2</th>\n",
       "      <td>3</td>\n",
       "      <td>Jorge Amado</td>\n",
       "      <td>1912</td>\n",
       "    </tr>\n",
       "    <tr>\n",
       "      <th>3</th>\n",
       "      <td>4</td>\n",
       "      <td>Graciliano Ramos</td>\n",
       "      <td>1892</td>\n",
       "    </tr>\n",
       "    <tr>\n",
       "      <th>4</th>\n",
       "      <td>5</td>\n",
       "      <td>Cecília Meireles</td>\n",
       "      <td>1901</td>\n",
       "    </tr>\n",
       "    <tr>\n",
       "      <th>5</th>\n",
       "      <td>6</td>\n",
       "      <td>Monteiro Lobato</td>\n",
       "      <td>1882</td>\n",
       "    </tr>\n",
       "    <tr>\n",
       "      <th>6</th>\n",
       "      <td>7</td>\n",
       "      <td>Carlos Drummond de Andrade</td>\n",
       "      <td>1902</td>\n",
       "    </tr>\n",
       "    <tr>\n",
       "      <th>7</th>\n",
       "      <td>8</td>\n",
       "      <td>Manuel Bandeira</td>\n",
       "      <td>1886</td>\n",
       "    </tr>\n",
       "    <tr>\n",
       "      <th>8</th>\n",
       "      <td>9</td>\n",
       "      <td>João Cabral de Melo Neto</td>\n",
       "      <td>1920</td>\n",
       "    </tr>\n",
       "    <tr>\n",
       "      <th>9</th>\n",
       "      <td>10</td>\n",
       "      <td>Guimarães Rosa</td>\n",
       "      <td>1908</td>\n",
       "    </tr>\n",
       "  </tbody>\n",
       "</table>\n",
       "</div>"
      ],
      "text/plain": [
       "   id                        nome  nascimento\n",
       "0   1            Machado de Assis        1839\n",
       "1   2           Clarice Lispector        1920\n",
       "2   3                 Jorge Amado        1912\n",
       "3   4            Graciliano Ramos        1892\n",
       "4   5            Cecília Meireles        1901\n",
       "5   6             Monteiro Lobato        1882\n",
       "6   7  Carlos Drummond de Andrade        1902\n",
       "7   8             Manuel Bandeira        1886\n",
       "8   9    João Cabral de Melo Neto        1920\n",
       "9  10              Guimarães Rosa        1908"
      ]
     },
     "metadata": {},
     "output_type": "display_data"
    }
   ],
   "source": [
    "# NÃO MEXA!\n",
    "conn = sqlite3.connect('../biblioteca.db')\n",
    "cursor = conn.cursor()\n",
    "cursor.execute(query)\n",
    "resultado = cursor.fetchall()\n",
    "df = format_df(resultado, cursor)\n",
    "conn.close()\n",
    "display(df)"
   ]
  },
  {
   "cell_type": "code",
   "execution_count": 10,
   "id": "65656822",
   "metadata": {},
   "outputs": [
    {
     "data": {
      "text/plain": [
       "'Parabéns! Sua consulta está correta e retorna exatamente o esperado.'"
      ]
     },
     "execution_count": 10,
     "metadata": {},
     "output_type": "execute_result"
    }
   ],
   "source": [
    "# Teste automático do exercício\n",
    "tests.testa_consulta_autores(query)"
   ]
  },
  {
   "cell_type": "code",
   "execution_count": null,
   "id": "241548f6",
   "metadata": {},
   "outputs": [],
   "source": []
  }
 ],
 "metadata": {
  "kernelspec": {
   "display_name": ".venv",
   "language": "python",
   "name": "python3"
  },
  "language_info": {
   "codemirror_mode": {
    "name": "ipython",
    "version": 3
   },
   "file_extension": ".py",
   "mimetype": "text/x-python",
   "name": "python",
   "nbconvert_exporter": "python",
   "pygments_lexer": "ipython3",
   "version": "3.12.2"
  }
 },
 "nbformat": 4,
 "nbformat_minor": 5
}
